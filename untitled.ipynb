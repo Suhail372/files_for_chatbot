{
 "cells": [
  {
   "cell_type": "code",
   "execution_count": 10,
   "metadata": {},
   "outputs": [
    {
     "name": "stdout",
     "output_type": "stream",
     "text": [
      "Query: CBSE board schools with Handball\n",
      "Search results:['Name: Indus Universal School~Category: International Schools~Location: Near Tulsi Gardens, JJ Nagar Colony(PO), Yapral, Sainikpuri, Shivaji Nagar, Sainikpuri, Secunderabad, Telangana 500087, India~Faculty: ~Sports: Athletics, Badminton, Basketball, Cricket, Football, Gymnastics, Handball, Hockey, Kabaddi, Kho-Kho, Swimming, Table-tennis, Tennis, Volleyball~Amenities: Transport, Medical Facility, Laboratory, Smart Classrooms, Computers Facility, Library~Board: CBSE~Years: -1, 0, 1, 2, 3, 4, 5, 6, 7, 8, 9, 10, 11, 12~Fee: -1~Since: 2006~Strength: Not Available~', 'Name: Sanskriti The School~Category: Public Schools~Location: Kothapet Fruit Market\\r\\nSaroornagar Road, Dilsukhnagar\\r\\nHyderabad - 500035~Faculty: Mrs. S. Swati Principal / M.A., M.Ed Mr. Vikranth Terala Director / M.B.A.~Sports: Carroms, Chess, Cricket, Football, Handball~Amenities: Transport, Medical Facility, Laboratory, Smart Classrooms, Computers Facility, Library~Board: CBSE~Years: -1, 0, 1, 2, 3, 4, 5, 6, 7, 8, 9, 10~Fee: -1~Since: 2009~Strength: Not Available~', 'Name: Kendriya Vidyalaya~Category: Public Schools~Location: GPRA Campus Rd, Indira Nagar, Gachibowli, Hyderabad, Telangana 500032~Faculty: Mr. E KrishnaMurthy Principal / M.Sc, B.Ed~Sports: Athletics, Badminton, Carroms, Chess, Cricket, Football, Handball, Hockey, Kabaddi, Swimming, Throwball~Amenities: Transport, Laboratory, Smart Classrooms, Computers Facility, Library~Board: CBSE~Years: -1, 0, 1, 2, 3, 4, 5, 6, 7, 8, 9, 10~Fee: 50000, 125000~Since: 1987~Strength: Not Available~']\n",
      "Query: Cambridge IGCSE board schools with Ice-Hockey\n",
      "Search results:['Name: Oakridge International School~Category: International Schools~Location: Bowrampet, Near Bachupally, Hyderabad  500 043, Telangana, India~Faculty: Ms. Baljeet Oberoi Principal / Masters in Mathematics~Sports: Athletics, Badminton, Basketball, Carroms, Chess, Cricket, Football, Gymnastics, Hockey, Ice-Hockey, Karate, Lawn Tennis, Skating, Swimming, Tennis, Throwball, Volleyball, Yoga~Amenities: Transport, Medical Facility, Laboratory, Smart Classrooms, Computers Facility, Library~Board: CBSE, International Baccalaureate, Cambridge IGCSE~Years: -1, 0, 1, 2, 3, 4, 5, 6, 7, 8, 9, 10, 11, 12~Fee: 21800000, 71700000~Since: 2001~Strength: Not Available~']\n",
      "Query: Cambridge IGCSE board schools with Athletics\n",
      "Search results:['Name: New York Academy Progressive American International School~Category: International Schools, Play Schools~Location: 774/B, Rd Number 39, CBI Colony, Jubilee Hills, Hyderabad, Telangana 500033, India~Faculty: Mr. Brian Kissman Head of the School Ms. Umme Salma Principal / M.Ed. Educational Leadership, Director Certificati~Sports: Athletics, Badminton, Basketball, Carroms, Chess, Cricket, Football, Gymnastics, Karate, Skating, Swimming~Amenities: Transport, Smart Classrooms, Computers Facility, Library~Board: CBSE, Cambridge IGCSE, Other Boards~Years: -1, 0, 1, 2, 3, 4, 5, 6, 7, 8, 9, 10~Fee: 100000, 490000~Since: 2016~Strength: 128~', 'Name: Meru International School~Category: International Schools~Location: Sy. No. 97(P) & 98, adjacent to My Home Jewel, Madinaguda, Chanda Nagar, Hyderabad, Telangana 500049, India~Faculty: Ms. MEGHANA RAO JUPALLY DIRECTOR, MERU INTERNATIONAL SCHOOL / N/A~Sports: Athletics, Badminton, Basketball, Carroms, Cricket, Football, Gymnastics, Kabaddi, Karate, Table-tennis, Tennis, Volleyball~Amenities: Transport, Medical Facility, Laboratory, Smart Classrooms, Computers Facility, Library~Board: CBSE, Cambridge IGCSE~Years: -1, 0, 1, 2, 3, 4, 5, 6, 7, 8, 9, 10, 11, 12~Fee: 2100000, 2800000~Since: 2018~Strength: Not Available~', 'Name: Oakridge International School~Category: International Schools~Location: Bowrampet, Near Bachupally, Hyderabad  500 043, Telangana, India~Faculty: Ms. Baljeet Oberoi Principal / Masters in Mathematics~Sports: Athletics, Badminton, Basketball, Carroms, Chess, Cricket, Football, Gymnastics, Hockey, Ice-Hockey, Karate, Lawn Tennis, Skating, Swimming, Tennis, Throwball, Volleyball, Yoga~Amenities: Transport, Medical Facility, Laboratory, Smart Classrooms, Computers Facility, Library~Board: CBSE, International Baccalaureate, Cambridge IGCSE~Years: -1, 0, 1, 2, 3, 4, 5, 6, 7, 8, 9, 10, 11, 12~Fee: 21800000, 71700000~Since: 2001~Strength: Not Available~']\n",
      "Query: IGCSE board schools with Tennis\n",
      "Search results:['Name: Sanskriti Global Pre-school~Category: Play Schools~Location: 201, Indira Towers, Plot 23, Ameenpur Rd, Chanda Nagar, Hyderabad, Telangana 500050~Faculty: ~Sports: Athletics, Carroms, Tennis~Amenities: Transport, Smart Classrooms, Computers Facility~Board: IGCSE~Years: -2, -1, 0~Fee: -1~Since: 2001~Strength: Not Available~', 'Name: International School Of Hyderabad~Category: International Schools~Location: ICRISAT Main Entrance Gate, Patancheru, Ramachandra Puram, Hyderabad, Telangana 502324~Faculty: Dr. Oli Tooher-Hancock Head of the School / Doctorate in Educational Leadership Mr. Andrew Nicholson Director / B.Sc.~Sports: Badminton, Basketball, Carroms, Chess, Cricket, Football, Hockey, Kabaddi, Kho-Kho, Lawn Tennis, Soccer, Squash, Swimming, Table-tennis, Tennis, Throwball, Yoga~Amenities: Transport, Medical Facility, Laboratory, Smart Classrooms, Computers Facility, Library~Board: Cambridge IGCSE~Years: -1, 0, 1, 2, 3, 4, 5, 6, 7, 8, 9, 10, 11, 12~Fee: -1~Since: 1981~Strength: 275~', 'Name: Meru International School~Category: International Schools~Location: Sy. No. 97(P) & 98, adjacent to My Home Jewel, Madinaguda, Chanda Nagar, Hyderabad, Telangana 500049, India~Faculty: Ms. MEGHANA RAO JUPALLY DIRECTOR, MERU INTERNATIONAL SCHOOL / N/A~Sports: Athletics, Badminton, Basketball, Carroms, Cricket, Football, Gymnastics, Kabaddi, Karate, Table-tennis, Tennis, Volleyball~Amenities: Transport, Medical Facility, Laboratory, Smart Classrooms, Computers Facility, Library~Board: CBSE, Cambridge IGCSE~Years: -1, 0, 1, 2, 3, 4, 5, 6, 7, 8, 9, 10, 11, 12~Fee: 2100000, 2800000~Since: 2018~Strength: Not Available~']\n",
      "Query: IGCSE board schools with Ice-Hockey\n",
      "Search results:['Name: Oakridge International School~Category: International Schools~Location: Bowrampet, Near Bachupally, Hyderabad  500 043, Telangana, India~Faculty: Ms. Baljeet Oberoi Principal / Masters in Mathematics~Sports: Athletics, Badminton, Basketball, Carroms, Chess, Cricket, Football, Gymnastics, Hockey, Ice-Hockey, Karate, Lawn Tennis, Skating, Swimming, Tennis, Throwball, Volleyball, Yoga~Amenities: Transport, Medical Facility, Laboratory, Smart Classrooms, Computers Facility, Library~Board: CBSE, International Baccalaureate, Cambridge IGCSE~Years: -1, 0, 1, 2, 3, 4, 5, 6, 7, 8, 9, 10, 11, 12~Fee: 21800000, 71700000~Since: 2001~Strength: Not Available~']\n"
     ]
    }
   ],
   "source": [
    "import json \n",
    "import random\n",
    "with open(\"F:\\Chat_Proj\\\\files_for_chatbot\\\\testcases\\\\two variable testcases.json\",\"r\") as file:\n",
    "    test_cases=json.load(file)\n",
    "\n",
    "with open(\"combined files\\\\cleaned_and_combined_hyd.json\",\"r\") as file:\n",
    "    data=json.load(file)\n",
    "\n",
    "for i in random.sample(test_cases[200:300],5):\n",
    "    query=i[\"query\"]\n",
    "    ans=i[\"ans\"]\n",
    "    count=0\n",
    "    results=[]\n",
    "    target=min(3,len(ans))\n",
    "    for j in data:\n",
    "        if j[\"Id\"] in ans:\n",
    "            count+=1\n",
    "            results.append(j['text data'])\n",
    "            if count==target:\n",
    "                break\n",
    "    print(f\"\"\"Query: {query}\n",
    "Search results:{results}\"\"\")"
   ]
  }
 ],
 "metadata": {
  "kernelspec": {
   "display_name": "chatbot_venv",
   "language": "python",
   "name": "python3"
  },
  "language_info": {
   "codemirror_mode": {
    "name": "ipython",
    "version": 3
   },
   "file_extension": ".py",
   "mimetype": "text/x-python",
   "name": "python",
   "nbconvert_exporter": "python",
   "pygments_lexer": "ipython3",
   "version": "3.10.9"
  }
 },
 "nbformat": 4,
 "nbformat_minor": 2
}
