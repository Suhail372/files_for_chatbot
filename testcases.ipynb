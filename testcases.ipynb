{
 "cells": [
  {
   "cell_type": "code",
   "execution_count": 1,
   "metadata": {},
   "outputs": [],
   "source": [
    "import json\n"
   ]
  },
  {
   "cell_type": "code",
   "execution_count": 2,
   "metadata": {},
   "outputs": [
    {
     "name": "stdout",
     "output_type": "stream",
     "text": [
      "{'Years': [-1, 0, 1, 2, 3, 4, 5, 6, 7, 8, 9, 10], 'Since': 1980, 'Sports': 'Athletics, Cricket, Kabaddi, Karate, Tennikoit, Tennis, Throwball, Yoga', 'Fee': [-1], 'Strength': 0, 'Faculty': 'Ms. VASUDHA Principal / L.L.M, M.Ed, M.A.(Eng), M.A.(Phil), M.A.(PPM)', 'Name': 'Panineeya Mahavidyalaya Public School', 'text data': 'Name: Panineeya Mahavidyalaya Public School~Category: Other Collections~Location: Vivekananda Nagar Dilsukhnagar Hyderabad Telangana~Faculty: Ms. VASUDHA Principal / L.L.M, M.Ed, M.A.(Eng), M.A.(Phil), M.A.(PPM)~Sports: Athletics, Cricket, Kabaddi, Karate, Tennikoit, Tennis, Throwball, Yoga~Amenities: Transport, Medical Facility, Laboratory, Computers Facility, Library~Board: CBSE~Years: -1, 0, 1, 2, 3, 4, 5, 6, 7, 8, 9, 10~Fee: -1~Since: 1980~Strength: Not Available~', 'Location': 'Vivekananda Nagar Dilsukhnagar Hyderabad Telangana', 'Board': 'CBSE', 'Amenities': 'Transport, Medical Facility, Laboratory, Computers Facility, Library', 'Category': 'Other Collections', 'Id': 778}\n"
     ]
    }
   ],
   "source": [
    "with open('combined files\\\\cleaned_and_combined_hyd.json','r') as file:\n",
    "    json_data=json.load(file)\n",
    "print(json_data[777])"
   ]
  },
  {
   "cell_type": "code",
   "execution_count": 3,
   "metadata": {},
   "outputs": [],
   "source": [
    "\n",
    "location_set=set(['gachibowli','banjara','begumpet','dilsukhnagar',\n",
    "              'himayatnagar','jubilee','kondapur','kukatpally','madhapur',\n",
    "              'miyapur','patancheruvu','secunderabad','uppal'])"
   ]
  },
  {
   "cell_type": "code",
   "execution_count": 4,
   "metadata": {},
   "outputs": [
    {
     "name": "stdout",
     "output_type": "stream",
     "text": [
      "{'Polo', 'Gymnastics', 'Boxing', 'Volleyball', 'Squash', 'Lawn Tennis', 'Golf', 'Kho-Kho', 'Checkers', 'Yoga', 'Handball', 'Badminton', 'Hockey', 'Billiards', 'Horseback Riding', 'Archery', 'Taekwondo', 'Football', 'Cycling', 'Chess', 'Basketball', 'Kabaddi', 'Soccer', 'Rock-climbing', 'Carroms', 'Athletics', 'Cricket', 'Tennis', 'Tennikoit', 'Table-tennis', 'Karate', 'Skating', 'Swimming', 'Throwball', 'Ice-Hockey'}\n",
      "{'Transport', 'Computers Facility', 'Smart Classrooms', 'Library', 'Laboratory', 'Medical Facility'}\n",
      "{'CBSE', 'IGCSE', 'Montessori', 'State Board', 'ICSE', 'International Baccalaureate', 'Cambridge IGCSE', 'Other Boards', 'CIE', 'Other', 'Cambridge AIE'}\n",
      "{'Special Education Schools', 'Special Education', 'Boarding Schools', 'Other Collections', 'Public Schools', 'Day cum Boarding Schools', 'Day Schools', 'Play Schools', 'Other', 'International Schools', 'Govt Schools'}\n"
     ]
    }
   ],
   "source": [
    "amenities_set=set()\n",
    "sports_set=set()\n",
    "board_set=set()\n",
    "category_set=set()\n",
    "for dictionary in json_data:\n",
    "    amenities_set=amenities_set.union(set(list(map(str,dictionary['Amenities'].split(', ')))))\n",
    "    sports_set=sports_set.union(set(list(map(str,dictionary['Sports'].split(', ')))))\n",
    "    category_set=category_set.union(set(list(map(str,dictionary['Category'].split(', ')))))\n",
    "    board_set=board_set.union(set(list(map(str,dictionary['Board'].split(', ')))))\n",
    "amenities_set.discard('')\n",
    "sports_set.discard('')\n",
    "category_set.discard('')\n",
    "board_set.discard('')\n",
    "board_set.discard('LKG - LKG')\n",
    "print(sports_set,amenities_set,board_set,category_set,sep='\\n')\n"
   ]
  },
  {
   "cell_type": "code",
   "execution_count": 18,
   "metadata": {},
   "outputs": [],
   "source": [
    "json_test=[]\n",
    "for location in location_set:\n",
    "    for board in board_set:\n",
    "        ans=[]\n",
    "        query=f\"{board} schools in {location}\"\n",
    "        for dictionary in json_data:\n",
    "            \n",
    "            if board in dictionary[\"Board\"] and location in dictionary[\"Location\"].lower():\n",
    "                ans.append(dictionary[\"Id\"])\n",
    "        if len(ans)!=0:\n",
    "            json_test.append({\"query\":query,\"ans\":ans})\n"
   ]
  },
  {
   "cell_type": "code",
   "execution_count": 19,
   "metadata": {},
   "outputs": [],
   "source": [
    "output_file_path=\"testcases\\\\test_case_demo.json\"\n",
    "with open(output_file_path,'w') as file:\n",
    "    json.dump(json_test,file,indent=4)"
   ]
  },
  {
   "cell_type": "code",
   "execution_count": 14,
   "metadata": {},
   "outputs": [
    {
     "name": "stdout",
     "output_type": "stream",
     "text": [
      "234 CBSE Kothapet Fruit Market\n",
      "Saroornagar Road, Dilsukhnagar\n",
      "Hyderabad - 500035\n",
      "250 CBSE, State Board Door No. 16-11-511/B/13, Shalivahana Nagar, Hanumannagar, Shalivahana Nagar Colony, Dilsukhnagar, Hyderabad, Telangana 500060, India\n",
      "294 CBSE Behind Chaitanyapuri Bus Stop, Opposite Lane Swagath Restaurant, Near Ramalayam, Chaitanyapuri, Dilsukhnagar, Hyderabad, Telangana 500060\n",
      "399 CBSE 9G8J+3F6, V.V Nagar, VR Colony, Kamala Nagar, Dilsukhnagar, Hyderabad, Telangana 500060, India\n",
      "450 CBSE H-No, 1-7-9/1A, Satyanarayanapuram Colony, Chaitanyapuri, Dilsukhnagar, Hyderabad, Telangana 500060, India\n",
      "539 CBSE, State Board No: 34 , Tirumala Hills,\n",
      "\n",
      "DilsukhNagar ,Hyderabad.\n",
      "778 CBSE Vivekananda Nagar Dilsukhnagar Hyderabad Telangana\n",
      "948 CBSE, State Board Dilsukhnagar Public School, Badangpet, Telangana 500058, India\n",
      "1501 CBSE Sai Baba Temple Lane, Behind G Pulla Reddy Sweets, Lalitha Nagar, Dilsukhnagar, Hyderabad, Telangana 500060, India\n",
      "1574 CBSE New Gaddiannaram,\n",
      "P&T Colony, Dilsukhnagar,\n",
      "Hyderabad â€“ 500 060,\n",
      "Telangana, India.\n",
      "1857 CBSE 13-82, Kodandaram Nagar, Dilsukhnagar, Saroornagar, Hyderabad, Telangana 500060, India\n"
     ]
    }
   ],
   "source": [
    "for dictionary in json_data:\n",
    "    board=dictionary[\"Board\"]\n",
    "    location=dictionary[\"Location\"]\n",
    "    \n",
    "    "
   ]
  }
 ],
 "metadata": {
  "kernelspec": {
   "display_name": "chatbot_venv",
   "language": "python",
   "name": "python3"
  },
  "language_info": {
   "codemirror_mode": {
    "name": "ipython",
    "version": 3
   },
   "file_extension": ".py",
   "mimetype": "text/x-python",
   "name": "python",
   "nbconvert_exporter": "python",
   "pygments_lexer": "ipython3",
   "version": "3.10.9"
  }
 },
 "nbformat": 4,
 "nbformat_minor": 2
}
