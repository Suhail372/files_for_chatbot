{
 "cells": [
  {
   "cell_type": "code",
   "execution_count": 1,
   "metadata": {},
   "outputs": [],
   "source": [
    "import json"
   ]
  },
  {
   "cell_type": "code",
   "execution_count": 2,
   "metadata": {},
   "outputs": [
    {
     "name": "stdout",
     "output_type": "stream",
     "text": [
      "{'text data': 'Name: PAGE Junior College~Category: Day Schools~Location: Aditya Court, 8-2-334/K, Rd Number 3, Green Valley, Banjara Hills, Hyderabad, Telangana 500034, India~Faculty: ~Sports: ~Amenities: Transport~Board: State Board~Years: 11~Fee: 50000~Since: 1988~Strength: 600~', 'Board': 'State Board', 'Sports': '', 'Category': 'Day Schools', 'Fee': [50000], 'Since': 1988, 'Faculty': '', 'Location': 'Aditya Court, 8-2-334/K, Rd Number 3, Green Valley, Banjara Hills, Hyderabad, Telangana 500034, India', 'Strength': 600, 'Years': [11], 'Name': 'PAGE Junior College', 'Amenities': 'Transport', 'Id': 778}\n"
     ]
    }
   ],
   "source": [
    "with open('combined files\\\\cleaned_and_combined_hyd.json','r') as file:\n",
    "    json_data=json.load(file)\n",
    "print(json_data[777])"
   ]
  },
  {
   "cell_type": "code",
   "execution_count": 3,
   "metadata": {},
   "outputs": [],
   "source": [
    "\n",
    "location_set=set(['gachibowli','banjara','begumpet','dilsukhnagar',\n",
    "              'himayatnagar','jubilee','kondapur','kukatpally','madhapur',\n",
    "              'miyapur','patancheruvu','secunderabad','uppal'])"
   ]
  },
  {
   "cell_type": "code",
   "execution_count": 4,
   "metadata": {},
   "outputs": [
    {
     "name": "stdout",
     "output_type": "stream",
     "text": [
      "{'Archery', 'Athletics', 'Boxing', 'Swimming', 'Tennis', 'Taekwondo', 'Checkers', 'Volleyball', 'Badminton', 'Cycling', 'Hockey', 'Football', 'Kabaddi', 'Skating', 'Golf', 'Soccer', 'Lawn Tennis', 'Kho-Kho', 'Carroms', 'Cricket', 'Handball', 'Billiards', 'Horseback Riding', 'Basketball', 'Table-tennis', 'Karate', 'Tennikoit', 'Polo', 'Gymnastics', 'Ice-Hockey', 'Throwball', 'Yoga', 'Rock-climbing', 'Squash', 'Chess'}\n",
      "{'Library', 'Computers Facility', 'Medical Facility', 'Transport', 'Smart Classrooms', 'Laboratory'}\n",
      "{'ICSE', 'Other Boards', 'IGCSE', 'Other', 'Montessori', 'International Baccalaureate', 'CBSE', 'Cambridge IGCSE', 'CIE', 'State Board'}\n",
      "{'Govt Schools', 'Special Education Schools', 'Day cum Boarding Schools', 'Play Schools', 'Other', 'Special Education', 'International Schools', 'Boarding Schools', 'Public Schools', 'Other Collections', 'Day Schools'}\n"
     ]
    }
   ],
   "source": [
    "amenities_set=set()\n",
    "sports_set=set()\n",
    "board_set=set()\n",
    "category_set=set()\n",
    "for dictionary in json_data:\n",
    "    amenities_set=amenities_set.union(set(list(map(str,dictionary['Amenities'].split(', ')))))\n",
    "    sports_set=sports_set.union(set(list(map(str,dictionary['Sports'].split(', ')))))\n",
    "    category_set=category_set.union(set(list(map(str,dictionary['Category'].split(', ')))))\n",
    "    board_set=board_set.union(set(list(map(str,dictionary['Board'].split(', ')))))\n",
    "amenities_set.discard('')\n",
    "sports_set.discard('')\n",
    "category_set.discard('')\n",
    "board_set.discard('')\n",
    "board_set.discard('LKG - LKG')\n",
    "print(sports_set,amenities_set,board_set,category_set,sep='\\n')\n"
   ]
  },
  {
   "cell_type": "code",
   "execution_count": 5,
   "metadata": {},
   "outputs": [
    {
     "name": "stdout",
     "output_type": "stream",
     "text": [
      "{'ICSE', 'IGCSE', 'Montessori', 'International Baccalaureate', 'CBSE', 'Cambridge IGCSE', 'CIE', 'State Board'}\n",
      "{'Govt Schools', 'Special Education Schools', 'Play Schools', 'International Schools', 'Boarding Schools', 'Public Schools', 'Day Schools'}\n"
     ]
    }
   ],
   "source": [
    "board_set.discard('Other')\n",
    "board_set.discard('Other Boards')\n",
    "print(board_set)\n",
    "category_set.discard('Other')\n",
    "category_set.discard('Other Collections')\n",
    "category_set.discard('Day cum Boarding Schools')\n",
    "category_set.discard('Special Education')\n",
    "print(category_set)"
   ]
  },
  {
   "cell_type": "code",
   "execution_count": 6,
   "metadata": {},
   "outputs": [],
   "source": [
    "\n",
    "def generate_test_cases(json_data, var1_set, var2_set, var1_name, var2_name):\n",
    "    test_cases = []\n",
    "\n",
    "    for var1 in var1_set:\n",
    "        if var1_name==\"location\":\n",
    "            pass\n",
    "        for var2 in var2_set:\n",
    "            ans = []\n",
    "    \n",
    "            # Construct query based on variable names\n",
    "            if var1_name == 'board' and var2_name == 'location':\n",
    "                query = f\"{var1.replace('board','').replace('Boards','').replace('Board','')} board schools in {var2}\"\n",
    "            \n",
    "            elif var1_name == 'board' and var2_name == 'amenities':\n",
    "                query = f\"{var1.replace('board','').replace('Boards','').replace('Board','')} board schools with {var2}\"\n",
    "                \n",
    "            elif var1_name == 'board' and var2_name == 'sports':\n",
    "                query = f\"{var1.replace('board','').replace('Boards','').replace('Board','')} board schools with {var2}\"\n",
    "                \n",
    "            elif var1_name == 'board' and var2_name == 'category':\n",
    "                query = f\"{var2.replace('Schools','')} schools with {var1.replace('board','').replace('Boards','').replace('Board','')} board\"\n",
    "                \n",
    "            elif var1_name == 'category' and var2_name == 'location':\n",
    "                query = f\"{var1.replace('Schools','')} schools in {var2}\"\n",
    "                \n",
    "            elif var1_name == 'category' and var2_name == 'amenities':\n",
    "                query = f\"{var1.replace('Schools','')} schools with {var2}\"\n",
    "                \n",
    "            elif var1_name == 'category' and var2_name == 'sports':\n",
    "                query = f\"{var1.replace('Schools','')} schools with {var2}\"\n",
    "                \n",
    "            elif var1_name == 'location' and var2_name == 'amenities':\n",
    "                query = f\"schools in {var1} with {var2}\"\n",
    "                \n",
    "            elif var1_name == 'location' and var2_name == 'sports':\n",
    "                query = f\"schools in {var1} with {var2}\"\n",
    "                \n",
    "            elif var1_name == 'amenities' and var2_name == 'sports':\n",
    "                query = f\"schools with {var1} and {var2}\"\n",
    "            \n",
    "            else:\n",
    "                query = f\"schools with {var1} and {var2}\"\n",
    "\n",
    "            for dictionary in json_data:\n",
    "                if var1.lower() in dictionary[var1_name.capitalize()].lower() and var2.lower() in dictionary[var2_name.capitalize()].lower():\n",
    "                    ans.append(dictionary[\"Id\"])\n",
    "            \n",
    "            if len(ans) != 0:\n",
    "                test_cases.append({\"query\": query, \"ans\": ans})\n",
    "\n",
    "    return test_cases"
   ]
  },
  {
   "cell_type": "code",
   "execution_count": 7,
   "metadata": {},
   "outputs": [],
   "source": [
    "test_cases = []\n",
    "sets_and_names = [\n",
    "    (board_set, location_set, 'board', 'location'),\n",
    "    (board_set, category_set, 'board', 'category'),\n",
    "    (board_set, amenities_set, 'board', 'amenities'),\n",
    "    (board_set, sports_set, 'board', 'sports'),\n",
    "    (category_set, location_set, 'category', 'location'),\n",
    "    (category_set,amenities_set,'category','amenities'),\n",
    "    (category_set, sports_set, 'category', 'sports'),\n",
    "    (location_set, amenities_set, 'location', 'amenities'),\n",
    "    (location_set, sports_set, 'location', 'sports'),\n",
    "    (amenities_set, sports_set, 'amenities', 'sports')    \n",
    "]\n",
    "\n",
    "for var1_set, var2_set, var1_name, var2_name in sets_and_names:\n",
    "    test_cases.extend(generate_test_cases(json_data, var1_set, var2_set, var1_name, var2_name))\n"
   ]
  },
  {
   "cell_type": "code",
   "execution_count": 8,
   "metadata": {},
   "outputs": [],
   "source": [
    "output_file_path=\"testcases\\\\two variable testcases.json\"\n",
    "with open(output_file_path,'w') as file:\n",
    "    json.dump(test_cases,file,indent=4)"
   ]
  },
  {
   "cell_type": "code",
   "execution_count": 10,
   "metadata": {},
   "outputs": [],
   "source": [
    "def generate_test_cases_three(json_data, var1_set, var2_set, var3_set, var1_name, var2_name, var3_name):\n",
    "    test_cases = []\n",
    "\n",
    "    for var1 in var1_set:\n",
    "        for var2 in var2_set:\n",
    "            for var3 in var3_set:\n",
    "                ans = []\n",
    "                \n",
    "                # Construct query based on variable names\n",
    "                if var1_name == 'board' and var2_name == 'location' and var3_name == 'amenities':\n",
    "                    query = f\"{var1.replace('board','').replace('Boards','').replace('Board','')} board schools in {var2} with {var3}\"\n",
    "                elif var1_name == 'board' and var2_name == 'location' and var3_name == 'sports':\n",
    "                    query = f\"{var1.replace('board','').replace('Boards','').replace('Board','')} board schools in {var2} with {var3}\"\n",
    "                elif var1_name == 'board' and var2_name == 'category' and var3_name == 'amenities':\n",
    "                    query = f\"{var1.replace('board','').replace('Boards','').replace('Board','')} board {var2.replace('Schools','')} schools with {var3}\"\n",
    "                elif var1_name == 'category' and var2_name == 'location' and var3_name == 'amenities':\n",
    "                    query = f\"{var1.replace('Schools','')} schools in {var2} with {var3}\"\n",
    "                else:\n",
    "                    query = f\"schools with {var1}, {var2}, and {var3}\"\n",
    "                \n",
    "                for dictionary in json_data:\n",
    "                    if (var1.lower() in dictionary[var1_name.capitalize()].lower() and \n",
    "                        var2.lower() in dictionary[var2_name.capitalize()].lower() and \n",
    "                        var3.lower() in dictionary[var3_name.capitalize()].lower()):\n",
    "                        ans.append(dictionary[\"Id\"])\n",
    "                \n",
    "                if len(ans) != 0:\n",
    "                    test_cases.append({\"query\": query, \"ans\": ans})\n",
    "\n",
    "    return test_cases\n"
   ]
  },
  {
   "cell_type": "code",
   "execution_count": 12,
   "metadata": {},
   "outputs": [],
   "source": [
    "def generate_test_cases_four(json_data, var1_set, var2_set, var3_set, var4_set, var1_name, var2_name, var3_name, var4_name):\n",
    "    test_cases = []\n",
    "\n",
    "    for var1 in var1_set:\n",
    "        for var2 in var2_set:\n",
    "            for var3 in var3_set:\n",
    "                for var4 in var4_set:\n",
    "                    ans = []\n",
    "                    \n",
    "                    # Construct query based on variable names\n",
    "                    if var1_name == 'board' and var2_name == 'category' and var3_name == 'location' and var4_name == 'amenities':\n",
    "                        query = f\"{var1.replace('board','').replace('Boards','').replace('Board','')} board {var2.replace('Schools','')} schools in {var3} with {var4}\"\n",
    "                    elif var1_name == 'board' and var2_name == 'category' and var3_name == 'location' and var4_name == 'sports':\n",
    "                        query = f\"{var1.replace('board','').replace('Boards','').replace('Board','')} board {var2.replace('Schools','')} schools in {var3} with {var4}\"\n",
    "                    elif var1_name == 'board' and var2_name == 'category' and var3_name == 'amenities' and var4_name == 'sports':\n",
    "                        query = f\"{var1.replace('board','').replace('Boards','').replace('Board','')} board {var2.replace('Schools','')} schools with {var3} and {var4}\"\n",
    "                    elif var1_name == 'category' and var2_name == 'location' and var3_name == 'amenities' and var4_name == 'sports':\n",
    "                        query = f\"{var1.replace('Schools','')} schools in {var2} with {var3} and {var4}\"\n",
    "                    else:\n",
    "                        query = f\"schools with {var1}, {var2}, {var3}, and {var4}\"\n",
    "                    \n",
    "                    for dictionary in json_data:\n",
    "                        if (var1.lower() in dictionary[var1_name.capitalize()].lower() and \n",
    "                            var2.lower() in dictionary[var2_name.capitalize()].lower() and \n",
    "                            var3.lower() in dictionary[var3_name.capitalize()].lower() and \n",
    "                            var4.lower() in dictionary[var4_name.capitalize()].lower()):\n",
    "                            ans.append(dictionary[\"Id\"])\n",
    "                    \n",
    "                    if len(ans) != 0:\n",
    "                        test_cases.append({\"query\": query, \"ans\": ans})\n",
    "\n",
    "    return test_cases\n"
   ]
  },
  {
   "cell_type": "code",
   "execution_count": 13,
   "metadata": {},
   "outputs": [],
   "source": [
    "test_cases_three = []\n",
    "test_cases_four = []\n",
    "\n",
    "sets_and_names_three = [\n",
    "    (board_set, category_set, amenities_set, 'board', 'category', 'amenities'),\n",
    "    (board_set, category_set, sports_set, 'board', 'category', 'sports'),\n",
    "    (board_set, location_set, amenities_set, 'board', 'location', 'amenities'),\n",
    "    (board_set, location_set, sports_set, 'board', 'location', 'sports'),\n",
    "    (category_set, location_set, amenities_set, 'category', 'location', 'amenities'),\n",
    "    (category_set, location_set, sports_set, 'category', 'location', 'sports'),\n",
    "    (location_set, amenities_set, sports_set, 'location', 'amenities', 'sports')\n",
    "]\n",
    "\n",
    "sets_and_names_four = [\n",
    "    (board_set, category_set, location_set, amenities_set, 'board', 'category', 'location', 'amenities'),\n",
    "    (board_set, category_set, location_set, sports_set, 'board', 'category', 'location', 'sports'),\n",
    "    (board_set, category_set, amenities_set, sports_set, 'board', 'category', 'amenities', 'sports'),\n",
    "    (board_set, location_set, amenities_set, sports_set, 'board', 'location', 'amenities', 'sports'),\n",
    "    (category_set, location_set, amenities_set, sports_set, 'category', 'location', 'amenities', 'sports')\n",
    "]\n",
    "\n",
    "# Generate test cases for three variables\n",
    "for var1_set, var2_set, var3_set, var1_name, var2_name, var3_name in sets_and_names_three:\n",
    "    test_cases_three.extend(generate_test_cases_three(json_data, var1_set, var2_set, var3_set, var1_name, var2_name, var3_name))\n",
    "\n",
    "# Generate test cases for four variables\n",
    "for var1_set, var2_set, var3_set, var4_set, var1_name, var2_name, var3_name, var4_name in sets_and_names_four:\n",
    "    test_cases_four.extend(generate_test_cases_four(json_data, var1_set, var2_set, var3_set, var4_set, var1_name, var2_name, var3_name, var4_name))\n",
    "\n",
    "# Save test cases to JSON files\n",
    "output_file_path_three = \"testcases\\\\three_variable_testcases.json\"\n",
    "with open(output_file_path_three, 'w') as file:\n",
    "    json.dump(test_cases_three, file, indent=4)\n",
    "\n",
    "output_file_path_four = \"testcases\\\\four_variable_testcases.json\"\n",
    "with open(output_file_path_four, 'w') as file:\n",
    "    json.dump(test_cases_four, file, indent=4)\n"
   ]
  }
 ],
 "metadata": {
  "kernelspec": {
   "display_name": "chatbot_venv",
   "language": "python",
   "name": "python3"
  },
  "language_info": {
   "codemirror_mode": {
    "name": "ipython",
    "version": 3
   },
   "file_extension": ".py",
   "mimetype": "text/x-python",
   "name": "python",
   "nbconvert_exporter": "python",
   "pygments_lexer": "ipython3",
   "version": "3.10.9"
  }
 },
 "nbformat": 4,
 "nbformat_minor": 2
}
