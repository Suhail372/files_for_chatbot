{
 "cells": [
  {
   "cell_type": "code",
   "execution_count": 1,
   "metadata": {},
   "outputs": [],
   "source": [
    "import os\n",
    "import json\n",
    "import uuid\n",
    "from transformers import AutoTokenizer, AutoModel\n",
    "from milvus import default_server\n",
    "from pymilvus import (\n",
    "    connections, utility, Collection,\n",
    "    CollectionSchema, FieldSchema, DataType\n",
    ")\n",
    "import torch"
   ]
  },
  {
   "cell_type": "code",
   "execution_count": 3,
   "metadata": {},
   "outputs": [],
   "source": [
    "default_server.start()"
   ]
  },
  {
   "cell_type": "code",
   "execution_count": 10,
   "metadata": {},
   "outputs": [],
   "source": [
    "class testing:\n",
    "    def __init__(self) -> None:\n",
    "        self.tokenizer=AutoTokenizer.from_pretrained('sentence-transformers/all-mpnet-base-v2')\n",
    "\n",
    "        self.model=AutoModel.from_pretrained('sentence-transformers/all-mpnet-base-v2')\n",
    "        if torch.cuda.is_available():\n",
    "            self.device = torch.device(\"cuda:0\")  # Use GPU if CUDA is available\n",
    "\n",
    "        else:\n",
    "            self.device = torch.device(\"cpu\")\n",
    "        self.collection = None\n",
    "        self.collection_name = \"chat_demo\"\n",
    "        self.MILVUS_URI = 'http://localhost:19530'\n",
    "        [self.MILVUS_HOST, self.MILVUS_PORT] = self.MILVUS_URI.split('://')[1].split(':')\n",
    "        connections.connect(host=self.MILVUS_HOST, port=self.MILVUS_PORT)\n",
    "        self.collection=Collection(name=self.collection_name)\n",
    "        self.collection.load()\n",
    "    def embedding(self,text_data):\n",
    "\n",
    "        inputs = self.tokenizer(text_data, return_tensors='pt', padding=True, truncation=True)\n",
    "        if self.device.type == 'cuda':\n",
    "            inputs = {key: tensor.cuda() for key, tensor in inputs.items()}  # Move tensors to CUDA\n",
    "        if self.device.type == 'xla':\n",
    "            inputs = {key: tensor.to(self.device) for key, tensor in inputs.items()}# Move tensors to TPU\n",
    "        with torch.no_grad():\n",
    "            # Forward pass through the model\n",
    "            outputs = self.model(**inputs)\n",
    "\n",
    "\n",
    "        embeddings = outputs.last_hidden_state.mean(dim=1)  # Assuming you want to use mean pooling\n",
    "\n",
    "        # Normalize the embeddings if needed\n",
    "        embeddings=embeddings[0]\n",
    "\n",
    "        normalized_embeddings = torch.nn.functional.normalize(embeddings, p=2, dim=-1)\n",
    "\n",
    "        return normalized_embeddings\n",
    "    def search(self,query):\n",
    "        embedded_vec=self.embedding(query).cpu().numpy()\n",
    "        \n",
    "        \n",
    "        res=self.collection.search(\n",
    "            data=[embedded_vec],\n",
    "            anns_field=\"embedding\",\n",
    "            param={\n",
    "            'metric_type': 'IP',\n",
    "            'params': {'nlist': 4096,'nprobe':512}\n",
    "                    },\n",
    "            limit=3,\n",
    "\n",
    "            output_fields=[\"text\"]   )\n",
    "\n",
    "        text_li=list()\n",
    "        id_li=list()\n",
    "        dist_li=list()\n",
    "        for i, hits in enumerate(res):\n",
    "\n",
    "            for hit in hits:\n",
    "                id_li.append(hit.entity.id)\n",
    "                dist_li.append(hit.entity.distance)\n",
    "                text_li.append(hit.entity.get(\"text\"))\n",
    "        data=dict()\n",
    "        data[\"id\"]=id_li\n",
    "        data[\"dist\"]=dist_li\n",
    "        data[\"text\"]=text_li\n",
    "        return data"
   ]
  },
  {
   "cell_type": "code",
   "execution_count": 11,
   "metadata": {},
   "outputs": [],
   "source": [
    "tester=testing()"
   ]
  },
  {
   "cell_type": "code",
   "execution_count": 12,
   "metadata": {},
   "outputs": [],
   "source": [
    "with open('testcases\\\\two variable testcases.json','r') as file:\n",
    "    test_data=json.load(file)"
   ]
  },
  {
   "cell_type": "code",
   "execution_count": 13,
   "metadata": {},
   "outputs": [
    {
     "name": "stdout",
     "output_type": "stream",
     "text": [
      "1131\n"
     ]
    }
   ],
   "source": [
    "print(len(test_data))"
   ]
  },
  {
   "cell_type": "code",
   "execution_count": 15,
   "metadata": {},
   "outputs": [],
   "source": [
    "p_count=0\n",
    "crct_count=0\n",
    "n_count=0\n",
    "for dictionary in test_data:\n",
    "    test_res=tester.search(dictionary['query'])\n",
    "    stat=-1\n",
    "    for i in test_res['id']:\n",
    "        if i in dictionary['ans']:\n",
    "            p_count+=1\n",
    "            stat=0\n",
    "            print(dictionary['query'],test_res['text'])\n",
    "        else:\n",
    "            n_count+=1\n",
    "    if stat==0:\n",
    "        crct_count+=1\n",
    "    stat=-1\n",
    "            "
   ]
  },
  {
   "cell_type": "code",
   "execution_count": 16,
   "metadata": {},
   "outputs": [
    {
     "name": "stdout",
     "output_type": "stream",
     "text": [
      "0 0 0\n"
     ]
    }
   ],
   "source": [
    "print(p_count,n_count,crct_count)"
   ]
  },
  {
   "cell_type": "code",
   "execution_count": 10,
   "metadata": {},
   "outputs": [],
   "source": [
    "default_server.stop()"
   ]
  }
 ],
 "metadata": {
  "kernelspec": {
   "display_name": "chatbot_venv",
   "language": "python",
   "name": "python3"
  },
  "language_info": {
   "codemirror_mode": {
    "name": "ipython",
    "version": 3
   },
   "file_extension": ".py",
   "mimetype": "text/x-python",
   "name": "python",
   "nbconvert_exporter": "python",
   "pygments_lexer": "ipython3",
   "version": "3.10.9"
  }
 },
 "nbformat": 4,
 "nbformat_minor": 2
}
